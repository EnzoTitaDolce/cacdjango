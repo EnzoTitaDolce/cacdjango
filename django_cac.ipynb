{
 "cells": [
  {
   "cell_type": "markdown",
   "metadata": {},
   "source": [
    "<h1>Ejercicio 1</h1>"
   ]
  },
  {
   "cell_type": "code",
   "execution_count": 14,
   "metadata": {},
   "outputs": [
    {
     "data": {
      "text/plain": [
       "5"
      ]
     },
     "execution_count": 14,
     "metadata": {},
     "output_type": "execute_result"
    }
   ],
   "source": [
    "def maximoDivisor(numero1:int, numero2:int):\n",
    "    divisor=0\n",
    "    for  i in range(1,min(numero1,numero2)+1):\n",
    "        if numero1%i==0 and numero2%i==0 :\n",
    "            divisor=i\n",
    "    return divisor\n",
    "maximoDivisor(75,10)"
   ]
  },
  {
   "cell_type": "code",
   "execution_count": 15,
   "metadata": {},
   "outputs": [
    {
     "data": {
      "text/plain": [
       "5"
      ]
     },
     "execution_count": 15,
     "metadata": {},
     "output_type": "execute_result"
    }
   ],
   "source": [
    "def gcd(a, b):\n",
    "#mientras el valor b sea válido (distinto de cero)\n",
    "    while b:\n",
    "        #al parámetro a le asigna el valor del parámetro b y al parámetro b le asigna el valor del RESTO de la división entre a y b\n",
    "        a, b = b, a % b\n",
    "    return a\n",
    "\n",
    "gcd(10,75)"
   ]
  },
  {
   "cell_type": "markdown",
   "metadata": {},
   "source": [
    "<h1>Ejercicio 2</h1>"
   ]
  },
  {
   "cell_type": "code",
   "execution_count": 16,
   "metadata": {},
   "outputs": [
    {
     "data": {
      "text/plain": [
       "24.0"
      ]
     },
     "execution_count": 16,
     "metadata": {},
     "output_type": "execute_result"
    }
   ],
   "source": [
    "def minimoMultiplo(a:int,b:int):\n",
    "    return (a*b)/maximoDivisor(a,b)\n",
    "\n",
    "minimoMultiplo(6,8)"
   ]
  },
  {
   "cell_type": "markdown",
   "metadata": {},
   "source": [
    "<h1>Ejercicio 3</h1>"
   ]
  },
  {
   "cell_type": "code",
   "execution_count": 17,
   "metadata": {},
   "outputs": [
    {
     "data": {
      "text/plain": [
       "{'cuántas': 1,\n",
       " 'veces': 1,\n",
       " 'aparece': 1,\n",
       " 'la': 1,\n",
       " 'palabra': 2,\n",
       " 'en': 1,\n",
       " 'esta': 1,\n",
       " 'oración': 1}"
      ]
     },
     "execution_count": 17,
     "metadata": {},
     "output_type": "execute_result"
    }
   ],
   "source": [
    "def diccionario_frecuencias(cadena:str):\n",
    "    diccionario={}\n",
    "    palabras=cadena.split(' ')\n",
    "    for palabra in palabras:\n",
    "        palabra=palabra.strip('.,\";?¿!¡')\n",
    "        if palabra in diccionario:\n",
    "            diccionario[palabra]+=1\n",
    "        else:\n",
    "            diccionario[palabra]=1\n",
    "    return diccionario\n",
    "\n",
    "diccionario_frecuencias('¡¿cuántas veces aparece la palabra \"palabra\" en esta oración?!')"
   ]
  },
  {
   "cell_type": "markdown",
   "metadata": {},
   "source": [
    "<h1>Ejercicio 4</h1>"
   ]
  },
  {
   "cell_type": "code",
   "execution_count": 18,
   "metadata": {},
   "outputs": [
    {
     "data": {
      "text/plain": [
       "('cuántas', 2)"
      ]
     },
     "execution_count": 18,
     "metadata": {},
     "output_type": "execute_result"
    }
   ],
   "source": [
    "def palabra_repetida(cadena:str):\n",
    "  diccionario=diccionario_frecuencias(cadena)\n",
    "  palabra_mas_frecuente=max(diccionario, key=diccionario.get)\n",
    "  frecuencia=diccionario[palabra_mas_frecuente]\n",
    "  return palabra_mas_frecuente,frecuencia\n",
    "  \n",
    "\n",
    "palabra_repetida('cuántas cuántas veces aparece cada palabra en esta oración?')"
   ]
  },
  {
   "cell_type": "markdown",
   "metadata": {},
   "source": [
    "<h1>Ejercicio 5</h1>"
   ]
  },
  {
   "cell_type": "code",
   "execution_count": 19,
   "metadata": {},
   "outputs": [
    {
     "data": {
      "text/plain": [
       "54"
      ]
     },
     "execution_count": 19,
     "metadata": {},
     "output_type": "execute_result"
    }
   ],
   "source": [
    "#forma recursiva\n",
    "def get_int():\n",
    "    try:\n",
    "        cadena=input('Ingrese el valor')\n",
    "        valor=int(cadena)\n",
    "        return valor\n",
    "    except ValueError:\n",
    "        return get_int()\n",
    "get_int()"
   ]
  },
  {
   "cell_type": "code",
   "execution_count": 20,
   "metadata": {},
   "outputs": [
    {
     "data": {
      "text/plain": [
       "54"
      ]
     },
     "execution_count": 20,
     "metadata": {},
     "output_type": "execute_result"
    }
   ],
   "source": [
    "#forma iterativa\n",
    "def get_int_iter():\n",
    "    valor=input('Ingrese un número:')\n",
    "    while True:\n",
    "        try:\n",
    "            valor=int(valor)\n",
    "            return valor\n",
    "        except ValueError:\n",
    "            return get_int_iter()\n",
    "get_int_iter()"
   ]
  },
  {
   "cell_type": "markdown",
   "metadata": {},
   "source": [
    "<h1>Ejercicio 6</h1>"
   ]
  },
  {
   "cell_type": "code",
   "execution_count": 21,
   "metadata": {},
   "outputs": [],
   "source": [
    "class Persona:\n",
    "     def __init__(self, nombre=None,edad=None,dni=None):\n",
    "          \n",
    "          self.nombre=nombre\n",
    "          self.edad=edad\n",
    "          self.dni=dni\n",
    "     \n",
    "     def set_nombre(self, nombre:str):\n",
    "          self.nombre=nombre\n",
    "     def get_nombre(self):\n",
    "          if self.nombre:\n",
    "               return self.nombre\n",
    "          else: return None\n",
    "     \n",
    "     def set_edad(self,edad:int):\n",
    "          self.edad=edad\n",
    "     def get_edad(self):\n",
    "          if self.edad:\n",
    "               return self.edad\n",
    "          else:\n",
    "               return None\n",
    "     \n",
    "     def set_dni(self, dni:str):\n",
    "          self.dni=dni\n",
    "     def get_dni(self):\n",
    "          if self.dni:\n",
    "               return self.dni\n",
    "          else:\n",
    "               return None"
   ]
  },
  {
   "cell_type": "markdown",
   "metadata": {},
   "source": [
    "<h1>Ejercicio 7</h1>"
   ]
  },
  {
   "cell_type": "code",
   "execution_count": 22,
   "metadata": {},
   "outputs": [
    {
     "name": "stdout",
     "output_type": "stream",
     "text": [
      "Titular: Juan\n",
      "Cantidad: 0\n",
      "Titular: Juan\n",
      "Cantidad: 1000\n",
      "Titular: Juan\n",
      "Cantidad: 500\n"
     ]
    }
   ],
   "source": [
    "class Cuenta:\n",
    "    def __init__(self, titular, cantidad=0):\n",
    "        self.titular = titular\n",
    "        self.cantidad = cantidad\n",
    "\n",
    "    def get_titular(self):\n",
    "        return self.titular.nombre\n",
    "\n",
    "    def set_titular(self, nombre):\n",
    "        self.titular.nombre = nombre\n",
    "\n",
    "    def get_cantidad(self):\n",
    "        return self.cantidad\n",
    "\n",
    "    def set_cantidad(self, cantidad):\n",
    "        if cantidad >= 0:\n",
    "            self.cantidad = cantidad\n",
    "\n",
    "    def mostrar(self):\n",
    "        print(\"Titular:\", self.get_titular())\n",
    "        print(\"Cantidad:\", self.get_cantidad())\n",
    "\n",
    "    def ingresar(self, cantidad):\n",
    "        if cantidad > 0:\n",
    "            self.cantidad += cantidad\n",
    "\n",
    "    def retirar(self, cantidad):\n",
    "        self.cantidad -= cantidad\n",
    "\n",
    "# Crear una instancia de Persona y Cuenta\n",
    "persona = Persona(\"Juan\")\n",
    "cuenta = Cuenta(persona)\n",
    "\n",
    "# Mostrar los datos iniciales de la cuenta\n",
    "cuenta.mostrar()\n",
    "\n",
    "# Ingresar dinero en la cuenta\n",
    "cuenta.ingresar(1000)\n",
    "cuenta.mostrar()\n",
    "\n",
    "# Retirar dinero de la cuenta\n",
    "cuenta.retirar(500)\n",
    "cuenta.mostrar()"
   ]
  },
  {
   "cell_type": "markdown",
   "metadata": {},
   "source": [
    "<h1>Ejercicio 8</h1>"
   ]
  },
  {
   "cell_type": "code",
   "execution_count": 23,
   "metadata": {},
   "outputs": [],
   "source": [
    "class CuentaJoven(Cuenta):\n",
    "    def __init__(self, titular, cantidad=0, bonificacion=0):\n",
    "        super().__init__(titular, cantidad)\n",
    "        self.bonificacion = bonificacion\n",
    "\n",
    "    def get_bonificacion(self):\n",
    "        return self.bonificacion\n",
    "\n",
    "    def set_bonificacion(self, bonificacion):\n",
    "        self.bonificacion = bonificacion\n",
    "\n",
    "    def es_titular_valido(self):\n",
    "        edad = self.titular.edad \n",
    "        return 18 <= edad < 25\n",
    "\n",
    "    def retirar(self, cantidad):\n",
    "        if self.es_titular_valido():\n",
    "            super().retirar(cantidad)\n",
    "        else:\n",
    "            print(\"El titular no es válido para retirar dinero.\")\n",
    "\n",
    "    def mostrar(self):\n",
    "        return \"Cuenta Joven\\nBonificación: {}%\".format(self.get_bonificacion())\n",
    "\n"
   ]
  }
 ],
 "metadata": {
  "kernelspec": {
   "display_name": "Python 3",
   "language": "python",
   "name": "python3"
  },
  "language_info": {
   "codemirror_mode": {
    "name": "ipython",
    "version": 3
   },
   "file_extension": ".py",
   "mimetype": "text/x-python",
   "name": "python",
   "nbconvert_exporter": "python",
   "pygments_lexer": "ipython3",
   "version": "3.11.1"
  },
  "orig_nbformat": 4
 },
 "nbformat": 4,
 "nbformat_minor": 2
}
